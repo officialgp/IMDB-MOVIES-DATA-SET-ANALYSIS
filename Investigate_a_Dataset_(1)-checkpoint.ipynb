{
 "cells": [
  {
   "cell_type": "markdown",
   "metadata": {
    "id": "lNeNd6O0E1dx"
   },
   "source": [
    "# Project: Investigating the IMDB-Movies Dataset\n",
    "\n",
    "## Table of Contents\n",
    "<ul>\n",
    "<li><a href=\"#intro\">Introduction</a></li>\n",
    "<li><a href=\"#wrangling\">Data Wrangling</a></li>\n",
    "<li><a href=\"#eda\">Exploratory Data Analysis</a></li>\n",
    "<li><a href=\"#conclusions\">Conclusions</a></li>\n",
    "</ul>"
   ]
  },
  {
   "cell_type": "markdown",
   "metadata": {
    "id": "AkIYZQ_6E1d0"
   },
   "source": [
    "<a id='intro'></a>\n",
    "## Introduction\n",
    "\n",
    "> This data set contains information about 10,000 movies collected from The Movie Database (TMDb), including user ratings and revenue.\n",
    "\n",
    "> In this first step, I’ll import the necessary libraries to import the data. After that, I’ll perform some basic commands to understand the structure of the data.\n",
    "\n",
    "> This analysis looks at two major questions;\n",
    "> 1. What are the properties associated with high revenue?\n",
    "> 2. What variable is most correlated with revenue?"
   ]
  },
  {
   "cell_type": "code",
   "execution_count": null,
   "metadata": {
    "id": "1Gf9DDjiE1d0"
   },
   "outputs": [],
   "source": [
    "#importing numpy and pandas libraries to read the data\n",
    "import pandas as pd\n",
    "import numpy as np\n",
    "\n",
    "# Import matplotlib and seaborn libraries to visualize the data\n",
    "import matplotlib.pyplot as plt\n",
    "import seaborn as sns\n",
    "%matplotlib inline\n",
    "\n",
    "# Supress Warnings\n",
    "import warnings\n",
    "warnings.filterwarnings('ignore')\n",
    "\n"
   ]
  },
  {
   "cell_type": "markdown",
   "metadata": {
    "id": "q7uBSmsXE1d1"
   },
   "source": [
    "<a id='wrangling'></a>\n",
    "## Data Wrangling\n",
    "\n",
    "> **Tip**: In this section of the report, I will load in the data, check for cleanliness, and then trim and clean the dataset for my analysis. \n",
    "\n",
    "### General Properties"
   ]
  },
  {
   "cell_type": "code",
   "execution_count": null,
   "metadata": {
    "colab": {
     "base_uri": "https://localhost:8080/",
     "height": 615
    },
    "id": "fYa--3JtE1d2",
    "outputId": "4dfe9873-f85b-49fb-bf53-45b8a3c4386d"
   },
   "outputs": [
    {
     "data": {
      "text/html": [
       "<div>\n",
       "<style scoped>\n",
       "    .dataframe tbody tr th:only-of-type {\n",
       "        vertical-align: middle;\n",
       "    }\n",
       "\n",
       "    .dataframe tbody tr th {\n",
       "        vertical-align: top;\n",
       "    }\n",
       "\n",
       "    .dataframe thead th {\n",
       "        text-align: right;\n",
       "    }\n",
       "</style>\n",
       "<table border=\"1\" class=\"dataframe\">\n",
       "  <thead>\n",
       "    <tr style=\"text-align: right;\">\n",
       "      <th></th>\n",
       "      <th>id</th>\n",
       "      <th>imdb_id</th>\n",
       "      <th>popularity</th>\n",
       "      <th>budget</th>\n",
       "      <th>revenue</th>\n",
       "      <th>original_title</th>\n",
       "      <th>cast</th>\n",
       "      <th>homepage</th>\n",
       "      <th>director</th>\n",
       "      <th>tagline</th>\n",
       "      <th>keywords</th>\n",
       "      <th>overview</th>\n",
       "      <th>runtime</th>\n",
       "      <th>genres</th>\n",
       "      <th>production_companies</th>\n",
       "      <th>release_date</th>\n",
       "      <th>vote_count</th>\n",
       "      <th>vote_average</th>\n",
       "      <th>release_year</th>\n",
       "      <th>budget_adj</th>\n",
       "      <th>revenue_adj</th>\n",
       "    </tr>\n",
       "  </thead>\n",
       "  <tbody>\n",
       "    <tr>\n",
       "      <th>0</th>\n",
       "      <td>135397</td>\n",
       "      <td>tt0369610</td>\n",
       "      <td>32.985763</td>\n",
       "      <td>150000000</td>\n",
       "      <td>1513528810</td>\n",
       "      <td>Jurassic World</td>\n",
       "      <td>Chris Pratt|Bryce Dallas Howard|Irrfan Khan|Vi...</td>\n",
       "      <td>http://www.jurassicworld.com/</td>\n",
       "      <td>Colin Trevorrow</td>\n",
       "      <td>The park is open.</td>\n",
       "      <td>monster|dna|tyrannosaurus rex|velociraptor|island</td>\n",
       "      <td>Twenty-two years after the events of Jurassic ...</td>\n",
       "      <td>124.0</td>\n",
       "      <td>Action|Adventure|Science Fiction|Thriller</td>\n",
       "      <td>Universal Studios|Amblin Entertainment|Legenda...</td>\n",
       "      <td>6/9/15</td>\n",
       "      <td>5562.0</td>\n",
       "      <td>6.5</td>\n",
       "      <td>2015.0</td>\n",
       "      <td>1.379999e+08</td>\n",
       "      <td>1.392446e+09</td>\n",
       "    </tr>\n",
       "    <tr>\n",
       "      <th>1</th>\n",
       "      <td>76341</td>\n",
       "      <td>tt1392190</td>\n",
       "      <td>28.419936</td>\n",
       "      <td>150000000</td>\n",
       "      <td>378436354</td>\n",
       "      <td>Mad Max: Fury Road</td>\n",
       "      <td>Tom Hardy|Charlize Theron|Hugh Keays-Byrne|Nic...</td>\n",
       "      <td>http://www.madmaxmovie.com/</td>\n",
       "      <td>George Miller</td>\n",
       "      <td>What a Lovely Day.</td>\n",
       "      <td>future|chase|post-apocalyptic|dystopia|australia</td>\n",
       "      <td>An apocalyptic story set in the furthest reach...</td>\n",
       "      <td>120.0</td>\n",
       "      <td>Action|Adventure|Science Fiction|Thriller</td>\n",
       "      <td>Village Roadshow Pictures|Kennedy Miller Produ...</td>\n",
       "      <td>5/13/15</td>\n",
       "      <td>6185.0</td>\n",
       "      <td>7.1</td>\n",
       "      <td>2015.0</td>\n",
       "      <td>1.379999e+08</td>\n",
       "      <td>3.481613e+08</td>\n",
       "    </tr>\n",
       "    <tr>\n",
       "      <th>2</th>\n",
       "      <td>262500</td>\n",
       "      <td>tt2908446</td>\n",
       "      <td>13.112507</td>\n",
       "      <td>110000000</td>\n",
       "      <td>295238201</td>\n",
       "      <td>Insurgent</td>\n",
       "      <td>Shailene Woodley|Theo James|Kate Winslet|Ansel...</td>\n",
       "      <td>http://www.thedivergentseries.movie/#insurgent</td>\n",
       "      <td>Robert Schwentke</td>\n",
       "      <td>One Choice Can Destroy You</td>\n",
       "      <td>based on novel|revolution|dystopia|sequel|dyst...</td>\n",
       "      <td>Beatrice Prior must confront her inner demons ...</td>\n",
       "      <td>119.0</td>\n",
       "      <td>Adventure|Science Fiction|Thriller</td>\n",
       "      <td>Summit Entertainment|Mandeville Films|Red Wago...</td>\n",
       "      <td>3/18/15</td>\n",
       "      <td>2480.0</td>\n",
       "      <td>6.3</td>\n",
       "      <td>2015.0</td>\n",
       "      <td>1.012000e+08</td>\n",
       "      <td>2.716190e+08</td>\n",
       "    </tr>\n",
       "    <tr>\n",
       "      <th>3</th>\n",
       "      <td>140607</td>\n",
       "      <td>tt2488496</td>\n",
       "      <td>11.173104</td>\n",
       "      <td>200000000</td>\n",
       "      <td>2068178225</td>\n",
       "      <td>Star Wars: The Force Awakens</td>\n",
       "      <td>Harrison Ford|Mark Hamill|Carrie Fisher|Adam D...</td>\n",
       "      <td>http://www.starwars.com/films/star-wars-episod...</td>\n",
       "      <td>J.J. Abrams</td>\n",
       "      <td>Every generation has a story.</td>\n",
       "      <td>android|spaceship|jedi|space opera|3d</td>\n",
       "      <td>Thirty years after defeating the Galactic Empi...</td>\n",
       "      <td>136.0</td>\n",
       "      <td>Action|Adventure|Science Fiction|Fantasy</td>\n",
       "      <td>Lucasfilm|Truenorth Productions|Bad Robot</td>\n",
       "      <td>12/15/15</td>\n",
       "      <td>5292.0</td>\n",
       "      <td>7.5</td>\n",
       "      <td>2015.0</td>\n",
       "      <td>1.839999e+08</td>\n",
       "      <td>1.902723e+09</td>\n",
       "    </tr>\n",
       "    <tr>\n",
       "      <th>4</th>\n",
       "      <td>168259</td>\n",
       "      <td>tt2820852</td>\n",
       "      <td>9.335014</td>\n",
       "      <td>190000000</td>\n",
       "      <td>1506249360</td>\n",
       "      <td>Furious 7</td>\n",
       "      <td>Vin Diesel|Paul Walker|Jason Statham|Michelle ...</td>\n",
       "      <td>http://www.furious7.com/</td>\n",
       "      <td>James Wan</td>\n",
       "      <td>Vengeance Hits Home</td>\n",
       "      <td>car race|speed|revenge|suspense|car</td>\n",
       "      <td>Deckard Shaw seeks revenge against Dominic Tor...</td>\n",
       "      <td>137.0</td>\n",
       "      <td>Action|Crime|Thriller</td>\n",
       "      <td>Universal Pictures|Original Film|Media Rights ...</td>\n",
       "      <td>4/1/15</td>\n",
       "      <td>2947.0</td>\n",
       "      <td>7.3</td>\n",
       "      <td>2015.0</td>\n",
       "      <td>1.747999e+08</td>\n",
       "      <td>1.385749e+09</td>\n",
       "    </tr>\n",
       "  </tbody>\n",
       "</table>\n",
       "</div>"
      ],
      "text/plain": [
       "       id    imdb_id  popularity  ...  release_year    budget_adj   revenue_adj\n",
       "0  135397  tt0369610   32.985763  ...        2015.0  1.379999e+08  1.392446e+09\n",
       "1   76341  tt1392190   28.419936  ...        2015.0  1.379999e+08  3.481613e+08\n",
       "2  262500  tt2908446   13.112507  ...        2015.0  1.012000e+08  2.716190e+08\n",
       "3  140607  tt2488496   11.173104  ...        2015.0  1.839999e+08  1.902723e+09\n",
       "4  168259  tt2820852    9.335014  ...        2015.0  1.747999e+08  1.385749e+09\n",
       "\n",
       "[5 rows x 21 columns]"
      ]
     },
     "execution_count": 2,
     "metadata": {
      "tags": []
     },
     "output_type": "execute_result"
    }
   ],
   "source": [
    "#Read the given tmbd movies CSV file, and view some sample records\n",
    "df = pd.read_csv('tmdb-movies.csv')\n",
    "df.head()"
   ]
  },
  {
   "cell_type": "markdown",
   "metadata": {
    "id": "RWQ2nmtPE1d3"
   },
   "source": [
    "### Performing tasks like 'shape', 'info', and 'describe' to better understand the data"
   ]
  },
  {
   "cell_type": "code",
   "execution_count": null,
   "metadata": {
    "colab": {
     "base_uri": "https://localhost:8080/"
    },
    "id": "ia2oNOHrE1d3",
    "outputId": "0964e580-8241-4af7-fb3d-a3c10e9c3f02"
   },
   "outputs": [
    {
     "data": {
      "text/plain": [
       "(4954, 21)"
      ]
     },
     "execution_count": 3,
     "metadata": {
      "tags": []
     },
     "output_type": "execute_result"
    }
   ],
   "source": [
    "#shape of the dataset\n",
    "df.shape"
   ]
  },
  {
   "cell_type": "code",
   "execution_count": null,
   "metadata": {
    "colab": {
     "base_uri": "https://localhost:8080/",
     "height": 297
    },
    "id": "1rZ3sfeuE1d3",
    "outputId": "369090e6-1c84-4f52-eabd-fa6e55a5058a"
   },
   "outputs": [
    {
     "data": {
      "text/html": [
       "<div>\n",
       "<style scoped>\n",
       "    .dataframe tbody tr th:only-of-type {\n",
       "        vertical-align: middle;\n",
       "    }\n",
       "\n",
       "    .dataframe tbody tr th {\n",
       "        vertical-align: top;\n",
       "    }\n",
       "\n",
       "    .dataframe thead th {\n",
       "        text-align: right;\n",
       "    }\n",
       "</style>\n",
       "<table border=\"1\" class=\"dataframe\">\n",
       "  <thead>\n",
       "    <tr style=\"text-align: right;\">\n",
       "      <th></th>\n",
       "      <th>id</th>\n",
       "      <th>popularity</th>\n",
       "      <th>budget</th>\n",
       "      <th>revenue</th>\n",
       "      <th>runtime</th>\n",
       "      <th>vote_count</th>\n",
       "      <th>vote_average</th>\n",
       "      <th>release_year</th>\n",
       "      <th>budget_adj</th>\n",
       "      <th>revenue_adj</th>\n",
       "    </tr>\n",
       "  </thead>\n",
       "  <tbody>\n",
       "    <tr>\n",
       "      <th>count</th>\n",
       "      <td>4954.000000</td>\n",
       "      <td>4954.000000</td>\n",
       "      <td>4.954000e+03</td>\n",
       "      <td>4.954000e+03</td>\n",
       "      <td>4953.000000</td>\n",
       "      <td>4953.000000</td>\n",
       "      <td>4953.000000</td>\n",
       "      <td>4953.000000</td>\n",
       "      <td>4.953000e+03</td>\n",
       "      <td>4.953000e+03</td>\n",
       "    </tr>\n",
       "    <tr>\n",
       "      <th>mean</th>\n",
       "      <td>105086.673193</td>\n",
       "      <td>0.728351</td>\n",
       "      <td>1.588650e+07</td>\n",
       "      <td>4.323586e+07</td>\n",
       "      <td>100.004846</td>\n",
       "      <td>262.384817</td>\n",
       "      <td>5.918332</td>\n",
       "      <td>2008.892187</td>\n",
       "      <td>1.670288e+07</td>\n",
       "      <td>4.592397e+07</td>\n",
       "    </tr>\n",
       "    <tr>\n",
       "      <th>std</th>\n",
       "      <td>110531.127909</td>\n",
       "      <td>1.293695</td>\n",
       "      <td>3.455748e+07</td>\n",
       "      <td>1.357668e+08</td>\n",
       "      <td>35.012933</td>\n",
       "      <td>699.916193</td>\n",
       "      <td>0.986985</td>\n",
       "      <td>6.344932</td>\n",
       "      <td>3.545038e+07</td>\n",
       "      <td>1.452834e+08</td>\n",
       "    </tr>\n",
       "    <tr>\n",
       "      <th>min</th>\n",
       "      <td>11.000000</td>\n",
       "      <td>0.001317</td>\n",
       "      <td>0.000000e+00</td>\n",
       "      <td>0.000000e+00</td>\n",
       "      <td>0.000000</td>\n",
       "      <td>10.000000</td>\n",
       "      <td>2.000000</td>\n",
       "      <td>1977.000000</td>\n",
       "      <td>0.000000e+00</td>\n",
       "      <td>0.000000e+00</td>\n",
       "    </tr>\n",
       "    <tr>\n",
       "      <th>25%</th>\n",
       "      <td>17631.250000</td>\n",
       "      <td>0.204510</td>\n",
       "      <td>0.000000e+00</td>\n",
       "      <td>0.000000e+00</td>\n",
       "      <td>90.000000</td>\n",
       "      <td>17.000000</td>\n",
       "      <td>5.300000</td>\n",
       "      <td>2008.000000</td>\n",
       "      <td>0.000000e+00</td>\n",
       "      <td>0.000000e+00</td>\n",
       "    </tr>\n",
       "    <tr>\n",
       "      <th>50%</th>\n",
       "      <td>53859.500000</td>\n",
       "      <td>0.389486</td>\n",
       "      <td>0.000000e+00</td>\n",
       "      <td>0.000000e+00</td>\n",
       "      <td>97.000000</td>\n",
       "      <td>41.000000</td>\n",
       "      <td>6.000000</td>\n",
       "      <td>2010.000000</td>\n",
       "      <td>0.000000e+00</td>\n",
       "      <td>0.000000e+00</td>\n",
       "    </tr>\n",
       "    <tr>\n",
       "      <th>75%</th>\n",
       "      <td>181470.500000</td>\n",
       "      <td>0.765165</td>\n",
       "      <td>1.500000e+07</td>\n",
       "      <td>1.699798e+07</td>\n",
       "      <td>109.000000</td>\n",
       "      <td>174.000000</td>\n",
       "      <td>6.600000</td>\n",
       "      <td>2014.000000</td>\n",
       "      <td>1.626241e+07</td>\n",
       "      <td>1.844618e+07</td>\n",
       "    </tr>\n",
       "    <tr>\n",
       "      <th>max</th>\n",
       "      <td>417859.000000</td>\n",
       "      <td>32.985763</td>\n",
       "      <td>4.250000e+08</td>\n",
       "      <td>2.781506e+09</td>\n",
       "      <td>900.000000</td>\n",
       "      <td>9767.000000</td>\n",
       "      <td>9.200000</td>\n",
       "      <td>2015.000000</td>\n",
       "      <td>4.250000e+08</td>\n",
       "      <td>2.827124e+09</td>\n",
       "    </tr>\n",
       "  </tbody>\n",
       "</table>\n",
       "</div>"
      ],
      "text/plain": [
       "                  id   popularity  ...    budget_adj   revenue_adj\n",
       "count    4954.000000  4954.000000  ...  4.953000e+03  4.953000e+03\n",
       "mean   105086.673193     0.728351  ...  1.670288e+07  4.592397e+07\n",
       "std    110531.127909     1.293695  ...  3.545038e+07  1.452834e+08\n",
       "min        11.000000     0.001317  ...  0.000000e+00  0.000000e+00\n",
       "25%     17631.250000     0.204510  ...  0.000000e+00  0.000000e+00\n",
       "50%     53859.500000     0.389486  ...  0.000000e+00  0.000000e+00\n",
       "75%    181470.500000     0.765165  ...  1.626241e+07  1.844618e+07\n",
       "max    417859.000000    32.985763  ...  4.250000e+08  2.827124e+09\n",
       "\n",
       "[8 rows x 10 columns]"
      ]
     },
     "execution_count": 4,
     "metadata": {
      "tags": []
     },
     "output_type": "execute_result"
    }
   ],
   "source": [
    "#Some summary statistics for the dataset\n",
    "#Using describe, I’ll see whether there is any sudden jump in the data’s values.\n",
    "df.describe()"
   ]
  },
  {
   "cell_type": "code",
   "execution_count": null,
   "metadata": {
    "colab": {
     "base_uri": "https://localhost:8080/"
    },
    "id": "gOvY0VBfE1d4",
    "outputId": "b39e16ac-b4b0-46a4-9c70-5f2bbe7334c7"
   },
   "outputs": [
    {
     "name": "stdout",
     "output_type": "stream",
     "text": [
      "<class 'pandas.core.frame.DataFrame'>\n",
      "RangeIndex: 4954 entries, 0 to 4953\n",
      "Data columns (total 21 columns):\n",
      " #   Column                Non-Null Count  Dtype  \n",
      "---  ------                --------------  -----  \n",
      " 0   id                    4954 non-null   int64  \n",
      " 1   imdb_id               4947 non-null   object \n",
      " 2   popularity            4954 non-null   float64\n",
      " 3   budget                4954 non-null   int64  \n",
      " 4   revenue               4954 non-null   int64  \n",
      " 5   original_title        4954 non-null   object \n",
      " 6   cast                  4903 non-null   object \n",
      " 7   homepage              1992 non-null   object \n",
      " 8   director              4921 non-null   object \n",
      " 9   tagline               3476 non-null   object \n",
      " 10  keywords              4053 non-null   object \n",
      " 11  overview              4949 non-null   object \n",
      " 12  runtime               4953 non-null   float64\n",
      " 13  genres                4940 non-null   object \n",
      " 14  production_companies  4418 non-null   object \n",
      " 15  release_date          4953 non-null   object \n",
      " 16  vote_count            4953 non-null   float64\n",
      " 17  vote_average          4953 non-null   float64\n",
      " 18  release_year          4953 non-null   float64\n",
      " 19  budget_adj            4953 non-null   float64\n",
      " 20  revenue_adj           4953 non-null   float64\n",
      "dtypes: float64(7), int64(3), object(11)\n",
      "memory usage: 812.9+ KB\n"
     ]
    }
   ],
   "source": [
    "#Info on the dataset.\n",
    "#Using the info to see whether there are any null values in the data. so I can manipulate the data and drop what we will not be using.\n",
    "\n",
    "df.info()"
   ]
  },
  {
   "cell_type": "markdown",
   "metadata": {
    "id": "2r3eN9uME1d4"
   },
   "source": [
    "\n",
    "### Data Cleaning (Dropping columns that I do not require for my anaysis)"
   ]
  },
  {
   "cell_type": "code",
   "execution_count": null,
   "metadata": {
    "id": "ZnXIJTXfE1d4"
   },
   "outputs": [],
   "source": [
    "df.drop(['id', 'director', 'vote_average', 'genres', 'production_companies', 'imdb_id', 'cast', 'homepage', 'tagline', 'keywords', 'overview', 'runtime', 'release_date', 'vote_count', 'budget', 'revenue',], axis=1, inplace=True)"
   ]
  },
  {
   "cell_type": "markdown",
   "metadata": {
    "id": "CdAsT53uE1d5"
   },
   "source": [
    "### N.B: The revenue_adj and budget_adj columns were selected over revenue and budget  because they have been adjusted for inflation"
   ]
  },
  {
   "cell_type": "code",
   "execution_count": null,
   "metadata": {
    "colab": {
     "base_uri": "https://localhost:8080/",
     "height": 204
    },
    "id": "p7mdePMTE1d5",
    "outputId": "9661f96a-41c5-4826-f170-09d38b1420ce"
   },
   "outputs": [
    {
     "data": {
      "text/html": [
       "<div>\n",
       "<style scoped>\n",
       "    .dataframe tbody tr th:only-of-type {\n",
       "        vertical-align: middle;\n",
       "    }\n",
       "\n",
       "    .dataframe tbody tr th {\n",
       "        vertical-align: top;\n",
       "    }\n",
       "\n",
       "    .dataframe thead th {\n",
       "        text-align: right;\n",
       "    }\n",
       "</style>\n",
       "<table border=\"1\" class=\"dataframe\">\n",
       "  <thead>\n",
       "    <tr style=\"text-align: right;\">\n",
       "      <th></th>\n",
       "      <th>popularity</th>\n",
       "      <th>original_title</th>\n",
       "      <th>release_year</th>\n",
       "      <th>budget_adj</th>\n",
       "      <th>revenue_adj</th>\n",
       "    </tr>\n",
       "  </thead>\n",
       "  <tbody>\n",
       "    <tr>\n",
       "      <th>0</th>\n",
       "      <td>32.985763</td>\n",
       "      <td>Jurassic World</td>\n",
       "      <td>2015.0</td>\n",
       "      <td>1.379999e+08</td>\n",
       "      <td>1.392446e+09</td>\n",
       "    </tr>\n",
       "    <tr>\n",
       "      <th>1</th>\n",
       "      <td>28.419936</td>\n",
       "      <td>Mad Max: Fury Road</td>\n",
       "      <td>2015.0</td>\n",
       "      <td>1.379999e+08</td>\n",
       "      <td>3.481613e+08</td>\n",
       "    </tr>\n",
       "    <tr>\n",
       "      <th>2</th>\n",
       "      <td>13.112507</td>\n",
       "      <td>Insurgent</td>\n",
       "      <td>2015.0</td>\n",
       "      <td>1.012000e+08</td>\n",
       "      <td>2.716190e+08</td>\n",
       "    </tr>\n",
       "    <tr>\n",
       "      <th>3</th>\n",
       "      <td>11.173104</td>\n",
       "      <td>Star Wars: The Force Awakens</td>\n",
       "      <td>2015.0</td>\n",
       "      <td>1.839999e+08</td>\n",
       "      <td>1.902723e+09</td>\n",
       "    </tr>\n",
       "    <tr>\n",
       "      <th>4</th>\n",
       "      <td>9.335014</td>\n",
       "      <td>Furious 7</td>\n",
       "      <td>2015.0</td>\n",
       "      <td>1.747999e+08</td>\n",
       "      <td>1.385749e+09</td>\n",
       "    </tr>\n",
       "  </tbody>\n",
       "</table>\n",
       "</div>"
      ],
      "text/plain": [
       "   popularity                original_title  ...    budget_adj   revenue_adj\n",
       "0   32.985763                Jurassic World  ...  1.379999e+08  1.392446e+09\n",
       "1   28.419936            Mad Max: Fury Road  ...  1.379999e+08  3.481613e+08\n",
       "2   13.112507                     Insurgent  ...  1.012000e+08  2.716190e+08\n",
       "3   11.173104  Star Wars: The Force Awakens  ...  1.839999e+08  1.902723e+09\n",
       "4    9.335014                     Furious 7  ...  1.747999e+08  1.385749e+09\n",
       "\n",
       "[5 rows x 5 columns]"
      ]
     },
     "execution_count": 7,
     "metadata": {
      "tags": []
     },
     "output_type": "execute_result"
    }
   ],
   "source": [
    "df.head()"
   ]
  },
  {
   "cell_type": "code",
   "execution_count": null,
   "metadata": {
    "colab": {
     "base_uri": "https://localhost:8080/"
    },
    "id": "qB9_97G1E1d5",
    "outputId": "84193926-8c71-4003-e686-8d23ce30f2a5"
   },
   "outputs": [
    {
     "name": "stdout",
     "output_type": "stream",
     "text": [
      "<class 'pandas.core.frame.DataFrame'>\n",
      "RangeIndex: 4954 entries, 0 to 4953\n",
      "Data columns (total 5 columns):\n",
      " #   Column          Non-Null Count  Dtype  \n",
      "---  ------          --------------  -----  \n",
      " 0   popularity      4954 non-null   float64\n",
      " 1   original_title  4954 non-null   object \n",
      " 2   release_year    4953 non-null   float64\n",
      " 3   budget_adj      4953 non-null   float64\n",
      " 4   revenue_adj     4953 non-null   float64\n",
      "dtypes: float64(4), object(1)\n",
      "memory usage: 193.6+ KB\n"
     ]
    }
   ],
   "source": [
    "df.info()"
   ]
  },
  {
   "cell_type": "code",
   "execution_count": null,
   "metadata": {
    "colab": {
     "base_uri": "https://localhost:8080/",
     "height": 297
    },
    "id": "SIvjKehJE1d5",
    "outputId": "494bc484-aa85-4d8f-b09f-4427f00db1b5"
   },
   "outputs": [
    {
     "data": {
      "text/html": [
       "<div>\n",
       "<style scoped>\n",
       "    .dataframe tbody tr th:only-of-type {\n",
       "        vertical-align: middle;\n",
       "    }\n",
       "\n",
       "    .dataframe tbody tr th {\n",
       "        vertical-align: top;\n",
       "    }\n",
       "\n",
       "    .dataframe thead th {\n",
       "        text-align: right;\n",
       "    }\n",
       "</style>\n",
       "<table border=\"1\" class=\"dataframe\">\n",
       "  <thead>\n",
       "    <tr style=\"text-align: right;\">\n",
       "      <th></th>\n",
       "      <th>popularity</th>\n",
       "      <th>release_year</th>\n",
       "      <th>budget_adj</th>\n",
       "      <th>revenue_adj</th>\n",
       "    </tr>\n",
       "  </thead>\n",
       "  <tbody>\n",
       "    <tr>\n",
       "      <th>count</th>\n",
       "      <td>4954.000000</td>\n",
       "      <td>4953.000000</td>\n",
       "      <td>4.953000e+03</td>\n",
       "      <td>4.953000e+03</td>\n",
       "    </tr>\n",
       "    <tr>\n",
       "      <th>mean</th>\n",
       "      <td>0.728351</td>\n",
       "      <td>2008.892187</td>\n",
       "      <td>1.670288e+07</td>\n",
       "      <td>4.592397e+07</td>\n",
       "    </tr>\n",
       "    <tr>\n",
       "      <th>std</th>\n",
       "      <td>1.293695</td>\n",
       "      <td>6.344932</td>\n",
       "      <td>3.545038e+07</td>\n",
       "      <td>1.452834e+08</td>\n",
       "    </tr>\n",
       "    <tr>\n",
       "      <th>min</th>\n",
       "      <td>0.001317</td>\n",
       "      <td>1977.000000</td>\n",
       "      <td>0.000000e+00</td>\n",
       "      <td>0.000000e+00</td>\n",
       "    </tr>\n",
       "    <tr>\n",
       "      <th>25%</th>\n",
       "      <td>0.204510</td>\n",
       "      <td>2008.000000</td>\n",
       "      <td>0.000000e+00</td>\n",
       "      <td>0.000000e+00</td>\n",
       "    </tr>\n",
       "    <tr>\n",
       "      <th>50%</th>\n",
       "      <td>0.389486</td>\n",
       "      <td>2010.000000</td>\n",
       "      <td>0.000000e+00</td>\n",
       "      <td>0.000000e+00</td>\n",
       "    </tr>\n",
       "    <tr>\n",
       "      <th>75%</th>\n",
       "      <td>0.765165</td>\n",
       "      <td>2014.000000</td>\n",
       "      <td>1.626241e+07</td>\n",
       "      <td>1.844618e+07</td>\n",
       "    </tr>\n",
       "    <tr>\n",
       "      <th>max</th>\n",
       "      <td>32.985763</td>\n",
       "      <td>2015.000000</td>\n",
       "      <td>4.250000e+08</td>\n",
       "      <td>2.827124e+09</td>\n",
       "    </tr>\n",
       "  </tbody>\n",
       "</table>\n",
       "</div>"
      ],
      "text/plain": [
       "        popularity  release_year    budget_adj   revenue_adj\n",
       "count  4954.000000   4953.000000  4.953000e+03  4.953000e+03\n",
       "mean      0.728351   2008.892187  1.670288e+07  4.592397e+07\n",
       "std       1.293695      6.344932  3.545038e+07  1.452834e+08\n",
       "min       0.001317   1977.000000  0.000000e+00  0.000000e+00\n",
       "25%       0.204510   2008.000000  0.000000e+00  0.000000e+00\n",
       "50%       0.389486   2010.000000  0.000000e+00  0.000000e+00\n",
       "75%       0.765165   2014.000000  1.626241e+07  1.844618e+07\n",
       "max      32.985763   2015.000000  4.250000e+08  2.827124e+09"
      ]
     },
     "execution_count": 9,
     "metadata": {
      "tags": []
     },
     "output_type": "execute_result"
    }
   ],
   "source": [
    "df.describe()"
   ]
  },
  {
   "cell_type": "code",
   "execution_count": null,
   "metadata": {
    "id": "LNNiZy8UE1d6"
   },
   "outputs": [],
   "source": []
  },
  {
   "cell_type": "code",
   "execution_count": null,
   "metadata": {
    "id": "awH2h5tCE1d6"
   },
   "outputs": [],
   "source": [
    "# After discussing the structure of the data and any problems that need to be\n",
    "#   cleaned, perform those cleaning steps in the second part of this section.\n"
   ]
  },
  {
   "cell_type": "markdown",
   "metadata": {
    "id": "D0d7-_MME1d6"
   },
   "source": [
    "<a id='eda'></a>\n",
    "## Exploratory Data Analysis\n",
    "\n",
    "> **Tip**: Now that you've trimmed and cleaned your data, you're ready to move on to exploration. Compute statistics and create visualizations with the goal of addressing the research questions that you posed in the Introduction section. It is recommended that you be systematic with your approach. Look at one variable at a time, and then follow it up by looking at relationships between variables.\n",
    "\n"
   ]
  },
  {
   "cell_type": "code",
   "execution_count": null,
   "metadata": {
    "colab": {
     "base_uri": "https://localhost:8080/",
     "height": 512
    },
    "id": "In-UfCH-E1d6",
    "outputId": "42be4cb9-564b-43a8-fa08-5b2ee64a83bb"
   },
   "outputs": [
    {
     "data": {
      "image/png": "[encoded data removed]",
      "text/plain": [
       "<Figure size 720x576 with 4 Axes>"
      ]
     },
     "metadata": {
      "needs_background": "light",
      "tags": []
     },
     "output_type": "display_data"
    }
   ],
   "source": [
    "df.hist(figsize=(10, 8));"
   ]
  },
  {
   "cell_type": "markdown",
   "metadata": {
    "id": "uCPaiVz7E1d7"
   },
   "source": [
    "### Research Question 1 ( What kind of properties are associated with movies that have high revenues?)"
   ]
  },
  {
   "cell_type": "code",
   "execution_count": null,
   "metadata": {
    "colab": {
     "base_uri": "https://localhost:8080/",
     "height": 297
    },
    "id": "GfBqfn1rE1d7",
    "outputId": "35f070f1-9ff7-4ef0-f139-b75413b63cdf"
   },
   "outputs": [
    {
     "data": {
      "text/html": [
       "<div>\n",
       "<style scoped>\n",
       "    .dataframe tbody tr th:only-of-type {\n",
       "        vertical-align: middle;\n",
       "    }\n",
       "\n",
       "    .dataframe tbody tr th {\n",
       "        vertical-align: top;\n",
       "    }\n",
       "\n",
       "    .dataframe thead th {\n",
       "        text-align: right;\n",
       "    }\n",
       "</style>\n",
       "<table border=\"1\" class=\"dataframe\">\n",
       "  <thead>\n",
       "    <tr style=\"text-align: right;\">\n",
       "      <th></th>\n",
       "      <th>popularity</th>\n",
       "      <th>release_year</th>\n",
       "      <th>budget_adj</th>\n",
       "      <th>revenue_adj</th>\n",
       "    </tr>\n",
       "  </thead>\n",
       "  <tbody>\n",
       "    <tr>\n",
       "      <th>count</th>\n",
       "      <td>906.000000</td>\n",
       "      <td>906.000000</td>\n",
       "      <td>9.060000e+02</td>\n",
       "      <td>9.060000e+02</td>\n",
       "    </tr>\n",
       "    <tr>\n",
       "      <th>mean</th>\n",
       "      <td>2.068562</td>\n",
       "      <td>2007.391832</td>\n",
       "      <td>6.654952e+07</td>\n",
       "      <td>2.354791e+08</td>\n",
       "    </tr>\n",
       "    <tr>\n",
       "      <th>std</th>\n",
       "      <td>2.448315</td>\n",
       "      <td>7.186843</td>\n",
       "      <td>5.328247e+07</td>\n",
       "      <td>2.666357e+08</td>\n",
       "    </tr>\n",
       "    <tr>\n",
       "      <th>min</th>\n",
       "      <td>0.063240</td>\n",
       "      <td>1977.000000</td>\n",
       "      <td>0.000000e+00</td>\n",
       "      <td>4.595613e+07</td>\n",
       "    </tr>\n",
       "    <tr>\n",
       "      <th>25%</th>\n",
       "      <td>0.850471</td>\n",
       "      <td>2002.000000</td>\n",
       "      <td>2.808951e+07</td>\n",
       "      <td>8.135922e+07</td>\n",
       "    </tr>\n",
       "    <tr>\n",
       "      <th>50%</th>\n",
       "      <td>1.383599</td>\n",
       "      <td>2010.000000</td>\n",
       "      <td>5.174445e+07</td>\n",
       "      <td>1.396543e+08</td>\n",
       "    </tr>\n",
       "    <tr>\n",
       "      <th>75%</th>\n",
       "      <td>2.363470</td>\n",
       "      <td>2012.000000</td>\n",
       "      <td>9.147604e+07</td>\n",
       "      <td>2.806937e+08</td>\n",
       "    </tr>\n",
       "    <tr>\n",
       "      <th>max</th>\n",
       "      <td>32.985763</td>\n",
       "      <td>2015.000000</td>\n",
       "      <td>3.683713e+08</td>\n",
       "      <td>2.827124e+09</td>\n",
       "    </tr>\n",
       "  </tbody>\n",
       "</table>\n",
       "</div>"
      ],
      "text/plain": [
       "       popularity  release_year    budget_adj   revenue_adj\n",
       "count  906.000000    906.000000  9.060000e+02  9.060000e+02\n",
       "mean     2.068562   2007.391832  6.654952e+07  2.354791e+08\n",
       "std      2.448315      7.186843  5.328247e+07  2.666357e+08\n",
       "min      0.063240   1977.000000  0.000000e+00  4.595613e+07\n",
       "25%      0.850471   2002.000000  2.808951e+07  8.135922e+07\n",
       "50%      1.383599   2010.000000  5.174445e+07  1.396543e+08\n",
       "75%      2.363470   2012.000000  9.147604e+07  2.806937e+08\n",
       "max     32.985763   2015.000000  3.683713e+08  2.827124e+09"
      ]
     },
     "execution_count": 12,
     "metadata": {
      "tags": []
     },
     "output_type": "execute_result"
    }
   ],
   "source": [
    "top = df.query('revenue_adj > revenue_adj.mean()')\n",
    "top.describe()"
   ]
  },
  {
   "cell_type": "markdown",
   "metadata": {
    "id": "EkFF-an8E1d7"
   },
   "source": [
    "## Research Question 2  (Which of these variables is most correlated with Adjusted Revenue)"
   ]
  },
  {
   "cell_type": "markdown",
   "metadata": {
    "id": "jWvIM1rWE1d7"
   },
   "source": [
    "### Visualizing the data\n",
    "\n",
    "### Data visualization using the matplolib and seaborn library. I’ll make a pairplot of the columns and see which columns are the most correlated to Adjusted Revenue."
   ]
  },
  {
   "cell_type": "code",
   "execution_count": null,
   "metadata": {
    "colab": {
     "base_uri": "https://localhost:8080/",
     "height": 303
    },
    "id": "wAkwzf0HE1d7",
    "outputId": "afa619fc-ffae-4a96-fa89-0a102445e67c"
   },
   "outputs": [
    {
     "data": {
      "image/png": "[encoded data removed]",
      "text/plain": [
       "<Figure size 864x288 with 3 Axes>"
      ]
     },
     "metadata": {
      "needs_background": "light",
      "tags": []
     },
     "output_type": "display_data"
    }
   ],
   "source": [
    "#Using pairplot we'll visualize the data for correlation\n",
    "\n",
    "sns.pairplot(df, x_vars=['popularity','release_year','budget_adj'], \n",
    "             y_vars='revenue_adj', size=4, aspect=1, kind='scatter')\n",
    "plt.show()"
   ]
  },
  {
   "cell_type": "markdown",
   "metadata": {
    "id": "dxLGhAYyE1d8"
   },
   "source": [
    "### A seaborn heatmap will help to visualize the correlation better."
   ]
  },
  {
   "cell_type": "code",
   "execution_count": null,
   "metadata": {
    "colab": {
     "base_uri": "https://localhost:8080/",
     "height": 270
    },
    "id": "kMSPomLrE1d8",
    "outputId": "e578088e-9958-4f9b-aefd-cd2ae92aaf3e"
   },
   "outputs": [
    {
     "data": {
      "image/png": "[encoded data removed]",
      "text/plain": [
       "<Figure size 432x288 with 2 Axes>"
      ]
     },
     "metadata": {
      "needs_background": "light",
      "tags": []
     },
     "output_type": "display_data"
    }
   ],
   "source": [
    "# Visualizing the data using heatmap\n",
    "\n",
    "sns.heatmap(df.corr(), cmap=\"YlGnBu\", annot = True)\n",
    "plt.show()"
   ]
  },
  {
   "cell_type": "markdown",
   "metadata": {
    "id": "WmpRfm2XE1d8"
   },
   "source": [
    "### From the graphs above , The popularity column seems most correlated to Adjusted Revenue"
   ]
  },
  {
   "cell_type": "code",
   "execution_count": null,
   "metadata": {
    "id": "CBw3KA2wE1d8"
   },
   "outputs": [],
   "source": [
    "median = df['budget_adj'].median()\n",
    "low = df.query('budget_adj < {}'. format(median))\n",
    "high = df.query('budget_adj >= {}'.format(median))\n",
    "\n",
    "mean_revenue_adj_low = low['revenue_adj'].mean()\n",
    "mean_revenue_adj_high = high['revenue_adj'].mean()"
   ]
  },
  {
   "cell_type": "code",
   "execution_count": null,
   "metadata": {
    "colab": {
     "base_uri": "https://localhost:8080/",
     "height": 312
    },
    "id": "km2UgWOOE1d8",
    "outputId": "945ddff8-3337-4bae-a084-54859441e11e"
   },
   "outputs": [
    {
     "data": {
      "text/plain": [
       "Text(0, 0.5, 'Average Movie Revenue')"
      ]
     },
     "execution_count": 16,
     "metadata": {
      "tags": []
     },
     "output_type": "execute_result"
    },
    {
     "data": {
      "image/png": "[encoded data removed]",
      "text/plain": [
       "<Figure size 432x288 with 1 Axes>"
      ]
     },
     "metadata": {
      "needs_background": "light",
      "tags": []
     },
     "output_type": "display_data"
    }
   ],
   "source": [
    "locations = [1, 2]\n",
    "heights = [mean_revenue_adj_low, mean_revenue_adj_high]\n",
    "labels = ['Low', 'High']\n",
    "plt.bar(locations, heights, tick_label=labels)\n",
    "plt.title('Average Revenue Ratings by Movie Budget')\n",
    "plt.xlabel('Movie Budget')\n",
    "plt.ylabel('Average Movie Revenue')"
   ]
  },
  {
   "cell_type": "code",
   "execution_count": null,
   "metadata": {
    "colab": {
     "base_uri": "https://localhost:8080/"
    },
    "id": "CCnXZ66aE1d9",
    "outputId": "93896f5e-390b-4e2a-a47b-46d8d8ad6483"
   },
   "outputs": [
    {
     "data": {
      "text/plain": [
       "10198762.442854684"
      ]
     },
     "execution_count": 33,
     "metadata": {
      "tags": []
     },
     "output_type": "execute_result"
    }
   ],
   "source": [
    "release_year1 = df.groupby('release_year').budget_adj.mean()\n",
    "release_year1.get(1977.0)"
   ]
  },
  {
   "cell_type": "code",
   "execution_count": null,
   "metadata": {
    "colab": {
     "base_uri": "https://localhost:8080/"
    },
    "id": "iXSj0cNYE1d9",
    "outputId": "5911f45a-e28b-4f2d-e91a-b3ea6de07a72"
   },
   "outputs": [
    {
     "data": {
      "text/plain": [
       "original_title\n",
       "$5 a Day                      0.000000e+00\n",
       "$9.99                         0.000000e+00\n",
       "'71                           0.000000e+00\n",
       "(500) Days of Summer          7.623003e+06\n",
       "10 Things I Hate About You    2.094485e+07\n",
       "                                  ...     \n",
       "ì˜í˜•ì œ                      0.000000e+00\n",
       "ì•„ê¸°ì™€ ë‚˜                 0.000000e+00\n",
       "ì‹ ì˜ í•œ ìˆ˜                 0.000000e+00\n",
       "í¬í™” ì†ìœ¼ë¡œ                1.000000e+04\n",
       "í•˜ìš¸ë§                      0.000000e+00\n",
       "Name: budget_adj, Length: 4912, dtype: float64"
      ]
     },
     "execution_count": 18,
     "metadata": {
      "tags": []
     },
     "output_type": "execute_result"
    }
   ],
   "source": [
    "highest_budget = df.groupby('original_title').budget_adj.max()\n",
    "highest_budget"
   ]
  },
  {
   "cell_type": "markdown",
   "metadata": {
    "id": "Y45AinTmE1d9"
   },
   "source": [
    "<a id='conclusions'></a>\n",
    "## Conclusions\n",
    "\n",
    "> **Tip**: Finally, summarize your findings and the results that have been performed. Make sure that you are clear with regards to the limitations of your exploration. If you haven't done any statistical tests, do not imply any statistical conclusions. And make sure you avoid implying causation from correlation!\n",
    "\n",
    "> **Tip**: Once you are satisfied with your work here, check over your report to make sure that it is satisfies all the areas of the rubric (found on the project submission page at the end of the lesson). You should also probably remove all of the \"Tips\" like this one so that the presentation is as polished as possible.\n",
    "\n",
    "## Submitting your Project \n",
    "\n",
    "> Before you submit your project, you need to create a .html or .pdf version of this notebook in the workspace here. To do that, run the code cell below. If it worked correctly, you should get a return code of 0, and you should see the generated .html file in the workspace directory (click on the orange Jupyter icon in the upper left).\n",
    "\n",
    "> Alternatively, you can download this report as .html via the **File** > **Download as** submenu, and then manually upload it into the workspace directory by clicking on the orange Jupyter icon in the upper left, then using the Upload button.\n",
    "\n",
    "> Once you've done this, you can submit your project by clicking on the \"Submit Project\" button in the lower right here. This will create and submit a zip file with this .ipynb doc and the .html or .pdf version you created. Congratulations!"
   ]
  },
  {
   "cell_type": "code",
   "execution_count": null,
   "metadata": {
    "colab": {
     "base_uri": "https://localhost:8080/"
    },
    "id": "gxFPRqCeE1d9",
    "outputId": "7fb46952-c807-4110-afb0-16153b629215"
   },
   "outputs": [
    {
     "data": {
      "text/plain": [
       "255"
      ]
     },
     "execution_count": 19,
     "metadata": {
      "tags": []
     },
     "output_type": "execute_result"
    }
   ],
   "source": [
    "from subprocess import call\n",
    "call(['python', '-m', 'nbconvert', 'Investigate_a_Dataset.ipynb'])"
   ]
  }
 ],
 "metadata": {
  "colab": {
   "collapsed_sections": [],
   "name": "Investigate_a_Dataset (1).ipynb",
   "provenance": []
  },
  "kernelspec": {
   "display_name": "Python 3",
   "language": "python",
   "name": "python3"
  },
  "language_info": {
   "codemirror_mode": {
    "name": "ipython",
    "version": 3
   },
   "file_extension": ".py",
   "mimetype": "text/x-python",
   "name": "python",
   "nbconvert_exporter": "python",
   "pygments_lexer": "ipython3",
   "version": "3.8.5"
  }
 },
 "nbformat": 4,
 "nbformat_minor": 1
}
